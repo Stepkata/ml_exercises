{
 "cells": [
  {
   "cell_type": "code",
   "execution_count": 8,
   "id": "b2629568-7dff-46d5-b7d8-b70987acd1c5",
   "metadata": {
    "colab": {
     "base_uri": "https://localhost:8080/",
     "height": 374
    },
    "id": "b2629568-7dff-46d5-b7d8-b70987acd1c5",
    "outputId": "138aae8e-3366-4ba3-e434-6674f1c205c2",
    "tags": []
   },
   "outputs": [],
   "source": [
    "from sklearn.datasets import fetch_california_housing\n",
    "from sklearn.model_selection import train_test_split\n",
    "from sklearn.preprocessing import StandardScaler\n",
    "from sklearn.model_selection import RandomizedSearchCV\n",
    "from tensorflow import keras\n",
    "import numpy as np\n",
    "from scipy.stats import reciprocal\n",
    "from scikeras.wrappers import KerasRegressor\n",
    "from scikeras.wrappers import KerasClassifier\n",
    "import pickle\n",
    "import keras_tuner as kt\n",
    "import tensorflow as tf\n",
    "import os"
   ]
  },
  {
   "cell_type": "code",
   "execution_count": 9,
   "id": "218f03a0-8715-410a-b63a-3eaca1bb2b8e",
   "metadata": {
    "id": "218f03a0-8715-410a-b63a-3eaca1bb2b8e",
    "tags": []
   },
   "outputs": [],
   "source": [
    "housing = fetch_california_housing()"
   ]
  },
  {
   "cell_type": "code",
   "execution_count": 10,
   "id": "ce3c35b9-a290-4624-9270-1cee2058774f",
   "metadata": {
    "id": "ce3c35b9-a290-4624-9270-1cee2058774f",
    "tags": []
   },
   "outputs": [],
   "source": [
    "X_train_full, X_test, y_train_full, y_test = train_test_split(housing.data,\n",
    "                                                              housing.target,\n",
    "                                                              random_state=42)\n",
    "X_train, X_valid, y_train, y_valid = train_test_split(X_train_full,\n",
    "                                                              y_train_full,\n",
    "                                                              random_state=42)"
   ]
  },
  {
   "cell_type": "code",
   "execution_count": 11,
   "id": "cabfcd92-de25-474f-9387-0e55b3d94a55",
   "metadata": {
    "id": "cabfcd92-de25-474f-9387-0e55b3d94a55",
    "tags": []
   },
   "outputs": [],
   "source": [
    "scaler = StandardScaler()\n",
    "X_train=scaler.fit_transform(X_train)\n",
    "X_valid = scaler.fit_transform(X_valid)\n",
    "X_test = scaler.transform(X_test)"
   ]
  },
  {
   "cell_type": "code",
   "execution_count": 12,
   "id": "ee6172d9-6e1f-4ed3-8195-9b4c1e845b69",
   "metadata": {
    "id": "ee6172d9-6e1f-4ed3-8195-9b4c1e845b69",
    "tags": []
   },
   "outputs": [],
   "source": [
    "def build_model(n_hidden=1, n_neurons=30, optimizer=\"sgd\", learning_rate=3e-3,\n",
    "                input_shape=[8]):\n",
    "    model = keras.models.Sequential()\n",
    "    model.add(keras.layers.InputLayer(input_shape=input_shape))\n",
    "    for layer in range(n_hidden):\n",
    "        model.add(keras.layers.Dense(n_neurons, activation=\"relu\"))\n",
    "    if optimizer==\"sgd\":\n",
    "        optimizer = keras.optimizers.SGD(learning_rate=learning_rate)\n",
    "    elif optimizer==\"nesterov\":\n",
    "        optimizer = keras.optimizers.nesterov(learning_rate=learning_rate)\n",
    "    elif optimizer==\"momentum\":\n",
    "        optimizer = keras.optimizers.momentum(learning_rate=learning_rate)\n",
    "    elif optimizer==\"adam\":\n",
    "        optimizer = keras.optimizers.adam(learning_rate=learning_rate)\n",
    "    else:\n",
    "        raise Exception('wrong optimizer')\n",
    "    model.add(keras.layers.Dense(1))\n",
    "    model.compile(loss=\"mse\", optimizer=optimizer)\n",
    "    return model"
   ]
  },
  {
   "cell_type": "code",
   "execution_count": 13,
   "id": "ad6d5c5f-354f-4194-bcfa-aff412d29f05",
   "metadata": {
    "id": "ad6d5c5f-354f-4194-bcfa-aff412d29f05",
    "tags": []
   },
   "outputs": [],
   "source": [
    "keras_reg = KerasRegressor(build_model, \n",
    "                           callbacks=[keras.callbacks.EarlyStopping(patience=10, \n",
    "                                                                    min_delta=1.0, verbose=1)])\n"
   ]
  },
  {
   "cell_type": "code",
   "execution_count": 14,
   "id": "05cb12de-a2ef-4e7b-b992-5ab3a2bf59d7",
   "metadata": {
    "id": "05cb12de-a2ef-4e7b-b992-5ab3a2bf59d7",
    "tags": []
   },
   "outputs": [
    {
     "name": "stdout",
     "output_type": "stream",
     "text": [
      "Fitting 3 folds for each of 10 candidates, totalling 30 fits\n",
      "Epoch 11: early stopping\n",
      "121/121 [==============================] - 0s 932us/step\n",
      "[CV] END model__learning_rate=0.0011561521695833974, model__n_hidden=1, model__n_neurons=41, optimizer=adam; total time=   6.4s\n",
      "Epoch 11: early stopping\n",
      "121/121 [==============================] - 0s 1ms/step\n",
      "[CV] END model__learning_rate=0.0011561521695833974, model__n_hidden=1, model__n_neurons=41, optimizer=adam; total time=   6.5s\n",
      "Epoch 11: early stopping\n",
      "121/121 [==============================] - 0s 985us/step\n",
      "[CV] END model__learning_rate=0.0011561521695833974, model__n_hidden=1, model__n_neurons=41, optimizer=adam; total time=   5.6s\n",
      "Epoch 11: early stopping\n",
      "121/121 [==============================] - 0s 1ms/step\n",
      "[CV] END model__learning_rate=0.005768484235564646, model__n_hidden=2, model__n_neurons=41, optimizer=sgd; total time=   5.5s\n",
      "Epoch 11: early stopping\n",
      "121/121 [==============================] - 0s 1ms/step\n",
      "[CV] END model__learning_rate=0.005768484235564646, model__n_hidden=2, model__n_neurons=41, optimizer=sgd; total time=   5.5s\n",
      "Epoch 11: early stopping\n",
      "121/121 [==============================] - 0s 933us/step\n",
      "[CV] END model__learning_rate=0.005768484235564646, model__n_hidden=2, model__n_neurons=41, optimizer=sgd; total time=   6.1s\n",
      "Epoch 11: early stopping\n",
      "121/121 [==============================] - 0s 911us/step\n",
      "[CV] END model__learning_rate=0.0052998105484564585, model__n_hidden=1, model__n_neurons=31, optimizer=nesterov; total time=   7.5s\n",
      "Epoch 11: early stopping\n",
      "121/121 [==============================] - 0s 897us/step\n",
      "[CV] END model__learning_rate=0.0052998105484564585, model__n_hidden=1, model__n_neurons=31, optimizer=nesterov; total time=   6.6s\n",
      "Epoch 11: early stopping\n",
      "121/121 [==============================] - 0s 935us/step\n",
      "[CV] END model__learning_rate=0.0052998105484564585, model__n_hidden=1, model__n_neurons=31, optimizer=nesterov; total time=   5.6s\n",
      "Epoch 11: early stopping\n",
      "121/121 [==============================] - 0s 916us/step\n",
      "[CV] END model__learning_rate=0.008489612879529734, model__n_hidden=0, model__n_neurons=17, optimizer=nesterov; total time=   6.0s\n",
      "Epoch 11: early stopping\n",
      "121/121 [==============================] - 0s 1ms/step\n",
      "[CV] END model__learning_rate=0.008489612879529734, model__n_hidden=0, model__n_neurons=17, optimizer=nesterov; total time=   6.4s\n",
      "Epoch 11: early stopping\n",
      "121/121 [==============================] - 0s 1ms/step\n",
      "[CV] END model__learning_rate=0.008489612879529734, model__n_hidden=0, model__n_neurons=17, optimizer=nesterov; total time=   4.9s\n",
      "Epoch 11: early stopping\n",
      "121/121 [==============================] - 0s 998us/step\n",
      "[CV] END model__learning_rate=0.0005670047606338645, model__n_hidden=3, model__n_neurons=67, optimizer=nesterov; total time=   6.8s\n",
      "Epoch 21: early stopping\n",
      "121/121 [==============================] - 0s 1ms/step\n",
      "[CV] END model__learning_rate=0.0005670047606338645, model__n_hidden=3, model__n_neurons=67, optimizer=nesterov; total time=  12.3s\n",
      "Epoch 11: early stopping\n",
      "121/121 [==============================] - 0s 1ms/step\n",
      "[CV] END model__learning_rate=0.0005670047606338645, model__n_hidden=3, model__n_neurons=67, optimizer=nesterov; total time=   6.4s\n",
      "Epoch 11: early stopping\n",
      "121/121 [==============================] - 0s 1ms/step\n",
      "[CV] END model__learning_rate=0.0015432432223119457, model__n_hidden=1, model__n_neurons=40, optimizer=nesterov; total time=   5.5s\n",
      "Epoch 11: early stopping\n",
      "121/121 [==============================] - 0s 1ms/step\n",
      "[CV] END model__learning_rate=0.0015432432223119457, model__n_hidden=1, model__n_neurons=40, optimizer=nesterov; total time=   5.9s\n",
      "Epoch 11: early stopping\n",
      "121/121 [==============================] - 0s 1ms/step\n",
      "[CV] END model__learning_rate=0.0015432432223119457, model__n_hidden=1, model__n_neurons=40, optimizer=nesterov; total time=   6.6s\n",
      "Epoch 11: early stopping\n",
      "121/121 [==============================] - 0s 1ms/step\n",
      "[CV] END model__learning_rate=0.0038269988306344274, model__n_hidden=3, model__n_neurons=32, optimizer=sgd; total time=   6.7s\n",
      "Epoch 11: early stopping\n",
      "121/121 [==============================] - 0s 2ms/step\n",
      "[CV] END model__learning_rate=0.0038269988306344274, model__n_hidden=3, model__n_neurons=32, optimizer=sgd; total time=   6.5s\n",
      "Epoch 11: early stopping\n",
      "121/121 [==============================] - 0s 1ms/step\n",
      "[CV] END model__learning_rate=0.0038269988306344274, model__n_hidden=3, model__n_neurons=32, optimizer=sgd; total time=   6.6s\n",
      "Epoch 11: early stopping\n",
      "121/121 [==============================] - 0s 935us/step\n",
      "[CV] END model__learning_rate=0.009242466144835102, model__n_hidden=0, model__n_neurons=9, optimizer=sgd; total time=   4.6s\n",
      "Epoch 11: early stopping\n",
      "121/121 [==============================] - 0s 930us/step\n",
      "[CV] END model__learning_rate=0.009242466144835102, model__n_hidden=0, model__n_neurons=9, optimizer=sgd; total time=   6.1s\n",
      "Epoch 11: early stopping\n",
      "121/121 [==============================] - 0s 911us/step\n",
      "[CV] END model__learning_rate=0.009242466144835102, model__n_hidden=0, model__n_neurons=9, optimizer=sgd; total time=   6.6s\n",
      "Epoch 11: early stopping\n",
      "121/121 [==============================] - 0s 958us/step\n",
      "[CV] END model__learning_rate=0.018860167720995337, model__n_hidden=3, model__n_neurons=31, optimizer=nesterov; total time=   7.2s\n",
      "Epoch 11: early stopping\n",
      "121/121 [==============================] - 0s 1ms/step\n",
      "[CV] END model__learning_rate=0.018860167720995337, model__n_hidden=3, model__n_neurons=31, optimizer=nesterov; total time=   6.6s\n",
      "Epoch 11: early stopping\n",
      "121/121 [==============================] - 0s 966us/step\n",
      "[CV] END model__learning_rate=0.018860167720995337, model__n_hidden=3, model__n_neurons=31, optimizer=nesterov; total time=   6.5s\n",
      "Epoch 11: early stopping\n",
      "121/121 [==============================] - 0s 949us/step\n",
      "[CV] END model__learning_rate=0.016234174756280677, model__n_hidden=1, model__n_neurons=65, optimizer=adam; total time=   8.2s\n",
      "Epoch 11: early stopping\n",
      "121/121 [==============================] - 0s 942us/step\n",
      "[CV] END model__learning_rate=0.016234174756280677, model__n_hidden=1, model__n_neurons=65, optimizer=adam; total time=   7.1s\n",
      "Epoch 11: early stopping\n",
      "121/121 [==============================] - 0s 894us/step\n",
      "[CV] END model__learning_rate=0.016234174756280677, model__n_hidden=1, model__n_neurons=65, optimizer=adam; total time=   6.0s\n",
      "Epoch 11: early stopping\n"
     ]
    },
    {
     "data": {
      "text/html": [
       "<style>#sk-container-id-1 {color: black;background-color: white;}#sk-container-id-1 pre{padding: 0;}#sk-container-id-1 div.sk-toggleable {background-color: white;}#sk-container-id-1 label.sk-toggleable__label {cursor: pointer;display: block;width: 100%;margin-bottom: 0;padding: 0.3em;box-sizing: border-box;text-align: center;}#sk-container-id-1 label.sk-toggleable__label-arrow:before {content: \"▸\";float: left;margin-right: 0.25em;color: #696969;}#sk-container-id-1 label.sk-toggleable__label-arrow:hover:before {color: black;}#sk-container-id-1 div.sk-estimator:hover label.sk-toggleable__label-arrow:before {color: black;}#sk-container-id-1 div.sk-toggleable__content {max-height: 0;max-width: 0;overflow: hidden;text-align: left;background-color: #f0f8ff;}#sk-container-id-1 div.sk-toggleable__content pre {margin: 0.2em;color: black;border-radius: 0.25em;background-color: #f0f8ff;}#sk-container-id-1 input.sk-toggleable__control:checked~div.sk-toggleable__content {max-height: 200px;max-width: 100%;overflow: auto;}#sk-container-id-1 input.sk-toggleable__control:checked~label.sk-toggleable__label-arrow:before {content: \"▾\";}#sk-container-id-1 div.sk-estimator input.sk-toggleable__control:checked~label.sk-toggleable__label {background-color: #d4ebff;}#sk-container-id-1 div.sk-label input.sk-toggleable__control:checked~label.sk-toggleable__label {background-color: #d4ebff;}#sk-container-id-1 input.sk-hidden--visually {border: 0;clip: rect(1px 1px 1px 1px);clip: rect(1px, 1px, 1px, 1px);height: 1px;margin: -1px;overflow: hidden;padding: 0;position: absolute;width: 1px;}#sk-container-id-1 div.sk-estimator {font-family: monospace;background-color: #f0f8ff;border: 1px dotted black;border-radius: 0.25em;box-sizing: border-box;margin-bottom: 0.5em;}#sk-container-id-1 div.sk-estimator:hover {background-color: #d4ebff;}#sk-container-id-1 div.sk-parallel-item::after {content: \"\";width: 100%;border-bottom: 1px solid gray;flex-grow: 1;}#sk-container-id-1 div.sk-label:hover label.sk-toggleable__label {background-color: #d4ebff;}#sk-container-id-1 div.sk-serial::before {content: \"\";position: absolute;border-left: 1px solid gray;box-sizing: border-box;top: 0;bottom: 0;left: 50%;z-index: 0;}#sk-container-id-1 div.sk-serial {display: flex;flex-direction: column;align-items: center;background-color: white;padding-right: 0.2em;padding-left: 0.2em;position: relative;}#sk-container-id-1 div.sk-item {position: relative;z-index: 1;}#sk-container-id-1 div.sk-parallel {display: flex;align-items: stretch;justify-content: center;background-color: white;position: relative;}#sk-container-id-1 div.sk-item::before, #sk-container-id-1 div.sk-parallel-item::before {content: \"\";position: absolute;border-left: 1px solid gray;box-sizing: border-box;top: 0;bottom: 0;left: 50%;z-index: -1;}#sk-container-id-1 div.sk-parallel-item {display: flex;flex-direction: column;z-index: 1;position: relative;background-color: white;}#sk-container-id-1 div.sk-parallel-item:first-child::after {align-self: flex-end;width: 50%;}#sk-container-id-1 div.sk-parallel-item:last-child::after {align-self: flex-start;width: 50%;}#sk-container-id-1 div.sk-parallel-item:only-child::after {width: 0;}#sk-container-id-1 div.sk-dashed-wrapped {border: 1px dashed gray;margin: 0 0.4em 0.5em 0.4em;box-sizing: border-box;padding-bottom: 0.4em;background-color: white;}#sk-container-id-1 div.sk-label label {font-family: monospace;font-weight: bold;display: inline-block;line-height: 1.2em;}#sk-container-id-1 div.sk-label-container {text-align: center;}#sk-container-id-1 div.sk-container {/* jupyter's `normalize.less` sets `[hidden] { display: none; }` but bootstrap.min.css set `[hidden] { display: none !important; }` so we also need the `!important` here to be able to override the default hidden behavior on the sphinx rendered scikit-learn.org. See: https://github.com/scikit-learn/scikit-learn/issues/21755 */display: inline-block !important;position: relative;}#sk-container-id-1 div.sk-text-repr-fallback {display: none;}</style><div id=\"sk-container-id-1\" class=\"sk-top-container\"><div class=\"sk-text-repr-fallback\"><pre>RandomizedSearchCV(cv=3,\n",
       "                   estimator=KerasRegressor(callbacks=[&lt;keras.callbacks.EarlyStopping object at 0x00000175DF160B10&gt;], model=&lt;function build_model at 0x00000175DEF43EC0&gt;),\n",
       "                   param_distributions={&#x27;model__learning_rate&#x27;: &lt;scipy.stats._distn_infrastructure.rv_continuous_frozen object at 0x00000175DF119110&gt;,\n",
       "                                        &#x27;model__n_hidden&#x27;: [0, 1, 2, 3],\n",
       "                                        &#x27;model__n_neurons&#x27;: array([ 1,  2,  3,  4,  5,  6,  7,  8,  9, 10, 11, 12, 13, 14, 15, 16, 17,\n",
       "       18, 19, 20, 21, 22, 23, 24, 25, 26, 27, 28, 29, 30, 31, 32, 33, 34,\n",
       "       35, 36, 37, 38, 39, 40, 41, 42, 43, 44, 45, 46, 47, 48, 49, 50, 51,\n",
       "       52, 53, 54, 55, 56, 57, 58, 59, 60, 61, 62, 63, 64, 65, 66, 67, 68,\n",
       "       69, 70, 71, 72, 73, 74, 75, 76, 77, 78, 79, 80, 81, 82, 83, 84, 85,\n",
       "       86, 87, 88, 89, 90, 91, 92, 93, 94, 95, 96, 97, 98, 99]),\n",
       "                                        &#x27;optimizer&#x27;: [&#x27;adam&#x27;, &#x27;sgd&#x27;,\n",
       "                                                      &#x27;nesterov&#x27;]},\n",
       "                   verbose=2)</pre><b>In a Jupyter environment, please rerun this cell to show the HTML representation or trust the notebook. <br />On GitHub, the HTML representation is unable to render, please try loading this page with nbviewer.org.</b></div><div class=\"sk-container\" hidden><div class=\"sk-item sk-dashed-wrapped\"><div class=\"sk-label-container\"><div class=\"sk-label sk-toggleable\"><input class=\"sk-toggleable__control sk-hidden--visually\" id=\"sk-estimator-id-1\" type=\"checkbox\" ><label for=\"sk-estimator-id-1\" class=\"sk-toggleable__label sk-toggleable__label-arrow\">RandomizedSearchCV</label><div class=\"sk-toggleable__content\"><pre>RandomizedSearchCV(cv=3,\n",
       "                   estimator=KerasRegressor(callbacks=[&lt;keras.callbacks.EarlyStopping object at 0x00000175DF160B10&gt;], model=&lt;function build_model at 0x00000175DEF43EC0&gt;),\n",
       "                   param_distributions={&#x27;model__learning_rate&#x27;: &lt;scipy.stats._distn_infrastructure.rv_continuous_frozen object at 0x00000175DF119110&gt;,\n",
       "                                        &#x27;model__n_hidden&#x27;: [0, 1, 2, 3],\n",
       "                                        &#x27;model__n_neurons&#x27;: array([ 1,  2,  3,  4,  5,  6,  7,  8,  9, 10, 11, 12, 13, 14, 15, 16, 17,\n",
       "       18, 19, 20, 21, 22, 23, 24, 25, 26, 27, 28, 29, 30, 31, 32, 33, 34,\n",
       "       35, 36, 37, 38, 39, 40, 41, 42, 43, 44, 45, 46, 47, 48, 49, 50, 51,\n",
       "       52, 53, 54, 55, 56, 57, 58, 59, 60, 61, 62, 63, 64, 65, 66, 67, 68,\n",
       "       69, 70, 71, 72, 73, 74, 75, 76, 77, 78, 79, 80, 81, 82, 83, 84, 85,\n",
       "       86, 87, 88, 89, 90, 91, 92, 93, 94, 95, 96, 97, 98, 99]),\n",
       "                                        &#x27;optimizer&#x27;: [&#x27;adam&#x27;, &#x27;sgd&#x27;,\n",
       "                                                      &#x27;nesterov&#x27;]},\n",
       "                   verbose=2)</pre></div></div></div><div class=\"sk-parallel\"><div class=\"sk-parallel-item\"><div class=\"sk-item\"><div class=\"sk-label-container\"><div class=\"sk-label sk-toggleable\"><input class=\"sk-toggleable__control sk-hidden--visually\" id=\"sk-estimator-id-2\" type=\"checkbox\" ><label for=\"sk-estimator-id-2\" class=\"sk-toggleable__label sk-toggleable__label-arrow\">estimator: KerasRegressor</label><div class=\"sk-toggleable__content\"><pre>KerasRegressor(\n",
       "\tmodel=&lt;function build_model at 0x00000175DEF43EC0&gt;\n",
       "\tbuild_fn=None\n",
       "\twarm_start=False\n",
       "\trandom_state=None\n",
       "\toptimizer=rmsprop\n",
       "\tloss=None\n",
       "\tmetrics=None\n",
       "\tbatch_size=None\n",
       "\tvalidation_batch_size=None\n",
       "\tverbose=1\n",
       "\tcallbacks=[&lt;keras.callbacks.EarlyStopping object at 0x00000175DF160B10&gt;]\n",
       "\tvalidation_split=0.0\n",
       "\tshuffle=True\n",
       "\trun_eagerly=False\n",
       "\tepochs=1\n",
       ")</pre></div></div></div><div class=\"sk-serial\"><div class=\"sk-item\"><div class=\"sk-estimator sk-toggleable\"><input class=\"sk-toggleable__control sk-hidden--visually\" id=\"sk-estimator-id-3\" type=\"checkbox\" ><label for=\"sk-estimator-id-3\" class=\"sk-toggleable__label sk-toggleable__label-arrow\">KerasRegressor</label><div class=\"sk-toggleable__content\"><pre>KerasRegressor(\n",
       "\tmodel=&lt;function build_model at 0x00000175DEF43EC0&gt;\n",
       "\tbuild_fn=None\n",
       "\twarm_start=False\n",
       "\trandom_state=None\n",
       "\toptimizer=rmsprop\n",
       "\tloss=None\n",
       "\tmetrics=None\n",
       "\tbatch_size=None\n",
       "\tvalidation_batch_size=None\n",
       "\tverbose=1\n",
       "\tcallbacks=[&lt;keras.callbacks.EarlyStopping object at 0x00000175DF160B10&gt;]\n",
       "\tvalidation_split=0.0\n",
       "\tshuffle=True\n",
       "\trun_eagerly=False\n",
       "\tepochs=1\n",
       ")</pre></div></div></div></div></div></div></div></div></div></div>"
      ],
      "text/plain": [
       "RandomizedSearchCV(cv=3,\n",
       "                   estimator=KerasRegressor(callbacks=[<keras.callbacks.EarlyStopping object at 0x00000175DF160B10>], model=<function build_model at 0x00000175DEF43EC0>),\n",
       "                   param_distributions={'model__learning_rate': <scipy.stats._distn_infrastructure.rv_continuous_frozen object at 0x00000175DF119110>,\n",
       "                                        'model__n_hidden': [0, 1, 2, 3],\n",
       "                                        'model__n_neurons': array([ 1,  2,  3,  4,  5,  6,  7,  8,  9, 10, 11, 12, 13, 14, 15, 16, 17,\n",
       "       18, 19, 20, 21, 22, 23, 24, 25, 26, 27, 28, 29, 30, 31, 32, 33, 34,\n",
       "       35, 36, 37, 38, 39, 40, 41, 42, 43, 44, 45, 46, 47, 48, 49, 50, 51,\n",
       "       52, 53, 54, 55, 56, 57, 58, 59, 60, 61, 62, 63, 64, 65, 66, 67, 68,\n",
       "       69, 70, 71, 72, 73, 74, 75, 76, 77, 78, 79, 80, 81, 82, 83, 84, 85,\n",
       "       86, 87, 88, 89, 90, 91, 92, 93, 94, 95, 96, 97, 98, 99]),\n",
       "                                        'optimizer': ['adam', 'sgd',\n",
       "                                                      'nesterov']},\n",
       "                   verbose=2)"
      ]
     },
     "execution_count": 14,
     "metadata": {},
     "output_type": "execute_result"
    }
   ],
   "source": [
    "param_distribs = {\n",
    "    \"model__n_hidden\": [0, 1, 2, 3],\n",
    "    \"model__n_neurons\": np.arange(1, 100),\n",
    "    \"optimizer\": [\"adam\", \"sgd\", \"nesterov\"],\n",
    "    \"model__learning_rate\": reciprocal(3e-4, 3e-2)\n",
    "}\n",
    "\n",
    "rnd_search_cv = RandomizedSearchCV(keras_reg, param_distribs,\n",
    "                                    n_iter=10, cv=3, verbose=2)\n",
    "\n",
    "rnd_search_cv.fit(X_train, y_train, epochs=100,\n",
    "                    validation_data=(X_valid, y_valid),\n",
    "                  verbose=0)"
   ]
  },
  {
   "cell_type": "code",
   "execution_count": 15,
   "id": "23b23640-170a-4a55-96b7-8cf31e381e51",
   "metadata": {
    "id": "23b23640-170a-4a55-96b7-8cf31e381e51",
    "tags": []
   },
   "outputs": [
    {
     "name": "stdout",
     "output_type": "stream",
     "text": [
      "{'model__learning_rate': 0.018860167720995337, 'model__n_hidden': 3, 'model__n_neurons': 31, 'optimizer': 'nesterov'}\n"
     ]
    }
   ],
   "source": [
    "print(rnd_search_cv.best_params_)"
   ]
  },
  {
   "cell_type": "code",
   "execution_count": 16,
   "id": "593074e4-1ce8-47b8-91fc-6c15c1ace01f",
   "metadata": {
    "id": "593074e4-1ce8-47b8-91fc-6c15c1ace01f",
    "tags": []
   },
   "outputs": [],
   "source": [
    "with open(\"rnd_search_params.pkl\", \"wb\") as f:\n",
    "    pickle.dump(rnd_search_cv.best_params_, f)"
   ]
  },
  {
   "cell_type": "code",
   "execution_count": 18,
   "id": "c57a93f5-caae-4bd7-b593-a47bf1ffef71",
   "metadata": {
    "id": "c57a93f5-caae-4bd7-b593-a47bf1ffef71",
    "tags": []
   },
   "outputs": [
    {
     "name": "stderr",
     "output_type": "stream",
     "text": [
      "WARNING:absl:Found untraced functions such as _update_step_xla while saving (showing 1 of 1). These functions will not be directly callable after loading.\n"
     ]
    },
    {
     "name": "stdout",
     "output_type": "stream",
     "text": [
      "INFO:tensorflow:Assets written to: C:\\Users\\keste\\AppData\\Local\\Temp\\tmp67kc74uc\\assets\n"
     ]
    },
    {
     "name": "stderr",
     "output_type": "stream",
     "text": [
      "INFO:tensorflow:Assets written to: C:\\Users\\keste\\AppData\\Local\\Temp\\tmp67kc74uc\\assets\n"
     ]
    },
    {
     "ename": "AttributeError",
     "evalue": "'SGD' object has no attribute 'get_weights'",
     "output_type": "error",
     "traceback": [
      "\u001b[1;31m---------------------------------------------------------------------------\u001b[0m",
      "\u001b[1;31mAttributeError\u001b[0m                            Traceback (most recent call last)",
      "Cell \u001b[1;32mIn [18], line 2\u001b[0m\n\u001b[0;32m      1\u001b[0m \u001b[38;5;28;01mwith\u001b[39;00m \u001b[38;5;28mopen\u001b[39m(\u001b[38;5;124m\"\u001b[39m\u001b[38;5;124mrnd_search_scikeras.pkl\u001b[39m\u001b[38;5;124m\"\u001b[39m, \u001b[38;5;124m\"\u001b[39m\u001b[38;5;124mwb\u001b[39m\u001b[38;5;124m\"\u001b[39m) \u001b[38;5;28;01mas\u001b[39;00m f:\n\u001b[1;32m----> 2\u001b[0m     \u001b[43mpickle\u001b[49m\u001b[38;5;241;43m.\u001b[39;49m\u001b[43mdump\u001b[49m\u001b[43m(\u001b[49m\u001b[43mrnd_search_cv\u001b[49m\u001b[43m,\u001b[49m\u001b[43m \u001b[49m\u001b[43mf\u001b[49m\u001b[43m)\u001b[49m\n",
      "File \u001b[1;32mC:\\Python311\\Lib\\site-packages\\scikeras\\_saving_utils.py:108\u001b[0m, in \u001b[0;36mpack_keras_model\u001b[1;34m(model)\u001b[0m\n\u001b[0;32m    106\u001b[0m optimizer_weights \u001b[38;5;241m=\u001b[39m \u001b[38;5;28;01mNone\u001b[39;00m\n\u001b[0;32m    107\u001b[0m \u001b[38;5;28;01mif\u001b[39;00m model\u001b[38;5;241m.\u001b[39moptimizer \u001b[38;5;129;01mis\u001b[39;00m \u001b[38;5;129;01mnot\u001b[39;00m \u001b[38;5;28;01mNone\u001b[39;00m:\n\u001b[1;32m--> 108\u001b[0m     optimizer_weights \u001b[38;5;241m=\u001b[39m \u001b[43mmodel\u001b[49m\u001b[38;5;241;43m.\u001b[39;49m\u001b[43moptimizer\u001b[49m\u001b[38;5;241;43m.\u001b[39;49m\u001b[43mget_weights\u001b[49m()\n\u001b[0;32m    109\u001b[0m model_bytes \u001b[38;5;241m=\u001b[39m np\u001b[38;5;241m.\u001b[39masarray(\u001b[38;5;28mmemoryview\u001b[39m(b\u001b[38;5;241m.\u001b[39mread()))\n\u001b[0;32m    110\u001b[0m \u001b[38;5;28;01mreturn\u001b[39;00m (\n\u001b[0;32m    111\u001b[0m     unpack_keras_model,\n\u001b[0;32m    112\u001b[0m     (model_bytes, optimizer_weights),\n\u001b[0;32m    113\u001b[0m )\n",
      "\u001b[1;31mAttributeError\u001b[0m: 'SGD' object has no attribute 'get_weights'"
     ]
    }
   ],
   "source": [
    "with open(\"rnd_search_scikeras.pkl\", \"wb\") as f:\n",
    "    pickle.dump(rnd_search_cv, f)"
   ]
  },
  {
   "cell_type": "code",
   "execution_count": 57,
   "id": "6cc8f8ea-3ae1-4ebe-b485-3a9672573620",
   "metadata": {
    "id": "6cc8f8ea-3ae1-4ebe-b485-3a9672573620",
    "tags": []
   },
   "outputs": [],
   "source": [
    "def build_model_kt(hp):\n",
    "    n_hidden = hp.Int(\"n_hidden\", min_value=0, max_value=3, default=2)\n",
    "    n_neurons = hp.Int(\"n_neurons\", min_value=1, max_value=100)\n",
    "    learning_rate = hp.Float(\"learning_rate\", min_value=3e-4, max_value=3e-2,\n",
    "                                sampling=\"log\")\n",
    "    optimizer = hp.Choice(\"optimizer\", values=[\"sgd\", \"adam\", \"nesterov\"])\n",
    "    if optimizer == \"sgd\":\n",
    "        optimizer = tf.keras.optimizers.SGD(learning_rate=learning_rate)\n",
    "    elif optimizer==\"adam\":\n",
    "        optimizer = tf.keras.optimizers.Adam(learning_rate=learning_rate)\n",
    "    else:\n",
    "        optimizer = tf.keras.optimizers.Nesterov(learning_rate=learning_rate)\n",
    "    model = tf.keras.Sequential()\n",
    "    model.add(keras.layers.InputLayer(input_shape=[8]))\n",
    "    for layer in range(n_hidden):\n",
    "        model.add(keras.layers.Dense(n_neurons, activation=\"relu\"))\n",
    "    model.add(keras.layers.Dense(1))\n",
    "    model.compile(loss=\"mse\", metrics=['mse'], optimizer=optimizer)\n",
    "    return model "
   ]
  },
  {
   "cell_type": "code",
   "execution_count": 63,
   "id": "ff51d787-8ce6-42d1-a5ea-d57a10cb842f",
   "metadata": {
    "id": "ff51d787-8ce6-42d1-a5ea-d57a10cb842f",
    "tags": []
   },
   "outputs": [],
   "source": [
    "random_search_tuner=kt.RandomSearch(build_model_kt, objective=\"val_mse\", max_trials=10,\n",
    "                                    overwrite=True, directory=\"my_california_housing2\",\n",
    "                                    project_name=\"my_rnd_search\", seed=42)\n",
    "\n",
    "root_logdir=os.path.join(random_search_tuner.project_dir,'tensorboard')\n",
    "tb=tf.keras.callbacks.TensorBoard(root_logdir)\n",
    "early_stopping_cb = tf.keras.callbacks.EarlyStopping(patience=2)"
   ]
  },
  {
   "cell_type": "code",
   "execution_count": 65,
   "id": "8b7546e0-378d-40a5-8cb6-3232d2f5743f",
   "metadata": {
    "id": "8b7546e0-378d-40a5-8cb6-3232d2f5743f",
    "tags": []
   },
   "outputs": [
    {
     "ename": "AttributeError",
     "evalue": "'RandomSearch' object has no attribute 'fit'",
     "output_type": "error",
     "traceback": [
      "\u001b[1;31m---------------------------------------------------------------------------\u001b[0m",
      "\u001b[1;31mAttributeError\u001b[0m                            Traceback (most recent call last)",
      "Cell \u001b[1;32mIn [65], line 1\u001b[0m\n\u001b[1;32m----> 1\u001b[0m \u001b[43mrandom_search_tuner\u001b[49m\u001b[38;5;241;43m.\u001b[39;49m\u001b[43mfit\u001b[49m(X_train, y_train, epochs\u001b[38;5;241m=\u001b[39m\u001b[38;5;241m100\u001b[39m,\n\u001b[0;32m      2\u001b[0m                         validation_data\u001b[38;5;241m=\u001b[39m(X_valid, y_valid),\n\u001b[0;32m      3\u001b[0m                         callbacks\u001b[38;5;241m=\u001b[39m[early_stopping_cb, tb])\n",
      "\u001b[1;31mAttributeError\u001b[0m: 'RandomSearch' object has no attribute 'fit'"
     ]
    }
   ],
   "source": [
    "random_search_tuner.fit(X_train, y_train, epochs=100,\n",
    "                        validation_data=(X_valid, y_valid),\n",
    "                        callbacks=[early_stopping_cb, tb])"
   ]
  },
  {
   "cell_type": "code",
   "execution_count": 62,
   "id": "0aa3bffe-3d3b-4947-a876-929bbd11a9ac",
   "metadata": {
    "id": "0aa3bffe-3d3b-4947-a876-929bbd11a9ac",
    "tags": []
   },
   "outputs": [
    {
     "ename": "AttributeError",
     "evalue": "'RandomSearch' object has no attribute 'best_params_'",
     "output_type": "error",
     "traceback": [
      "\u001b[1;31m---------------------------------------------------------------------------\u001b[0m",
      "\u001b[1;31mAttributeError\u001b[0m                            Traceback (most recent call last)",
      "Cell \u001b[1;32mIn [62], line 1\u001b[0m\n\u001b[1;32m----> 1\u001b[0m \u001b[43mrandom_search_tuner\u001b[49m\u001b[38;5;241;43m.\u001b[39;49m\u001b[43mbest_params_\u001b[49m\n",
      "\u001b[1;31mAttributeError\u001b[0m: 'RandomSearch' object has no attribute 'best_params_'"
     ]
    }
   ],
   "source": [
    "\n",
    "random_search_tuner.best_params_\n"
   ]
  },
  {
   "cell_type": "code",
   "execution_count": null,
   "id": "8ac59347-6577-46c4-8849-e4c1600cc6e2",
   "metadata": {},
   "outputs": [],
   "source": []
  }
 ],
 "metadata": {
  "colab": {
   "provenance": []
  },
  "kernelspec": {
   "display_name": "Python 3 (ipykernel)",
   "language": "python",
   "name": "python3"
  },
  "language_info": {
   "codemirror_mode": {
    "name": "ipython",
    "version": 3
   },
   "file_extension": ".py",
   "mimetype": "text/x-python",
   "name": "python",
   "nbconvert_exporter": "python",
   "pygments_lexer": "ipython3",
   "version": "3.11.0"
  }
 },
 "nbformat": 4,
 "nbformat_minor": 5
}
